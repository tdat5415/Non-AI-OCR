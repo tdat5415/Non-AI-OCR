{
 "cells": [
  {
   "cell_type": "code",
   "execution_count": 1,
   "id": "cd66f8bb",
   "metadata": {},
   "outputs": [],
   "source": [
    "import numpy as np\n",
    "import cv2\n",
    "\n",
    "def shift_window_pred(crop_imgs, images): # (3, h+20, w+20), (10, h, w)\n",
    "    _, h, w = images.shape\n",
    "    crop_imgs = np.lib.stride_tricks.sliding_window_view(crop_imgs, (h,w), axis=(1,2)) # (3,21,21,h,w)\n",
    "    crop_imgs = crop_imgs[:, None, ...] # (3,1,21,21,h,w)\n",
    "    images = images[None, :, None, None, ...] # (1,10,1,1,h,w)\n",
    "    temp = np.abs(crop_imgs - images) # (3,10,21,21,h,w)\n",
    "    temp = np.sum(temp, axis=(-1,-2)) # (3,10,21,21)\n",
    "    temp = np.min(temp, axis=(-1,-2)) # (3,10)\n",
    "    pred_nums = np.argmin(temp, axis=-1)\n",
    "    return pred_nums\n",
    "\n",
    "    "
   ]
  },
  {
   "cell_type": "code",
   "execution_count": 2,
   "metadata": {},
   "outputs": [],
   "source": [
    "import cv2\n",
    "import time\n",
    "import numpy as np\n",
    "from IPython.display import clear_output\n",
    "\n",
    "cap = cv2.VideoCapture(\"./video/digital_part2.mp4\")\n",
    "# 동영상 저장용\n",
    "# width  = int(cap.get(cv2.CAP_PROP_FRAME_WIDTH))\n",
    "# height = int(cap.get(cv2.CAP_PROP_FRAME_HEIGHT))\n",
    "# fourcc = cv2.VideoWriter_fourcc(*'MP4V')\n",
    "# out = cv2.VideoWriter('output.mp4', fourcc, 20.0, (width,height))\n",
    "\n",
    "images = list(map(lambda x:cv2.imread(f'./data/{x}.jpg'), range(10),))\n",
    "images = list(map(lambda x:cv2.inRange(x, (0,0,128), (255,255,255), ), images))\n",
    "images = np.stack(images).astype(np.int32) # (10, H, W)\n",
    "_, H, W = images.shape\n",
    "\n",
    "# xyxy\n",
    "boxes = [[553,287,593,357],\n",
    "         [600,287,640,357],\n",
    "         [645,290,685,360],\n",
    "        ]\n",
    "\n",
    "font = cv2.FONT_HERSHEY_SIMPLEX\n",
    "\n",
    "while cap.isOpened():\n",
    "    ret, img = cap.read()\n",
    "    if not ret: break\n",
    "\n",
    "    crop_imgs = list(map(lambda x:img[x[1]:x[3],x[0]:x[2]], boxes))\n",
    "    crop_imgs = list(map(lambda x:cv2.resize(x, (W,H)), crop_imgs))\n",
    "    crop_imgs = list(map(lambda x:cv2.inRange(x, (0,0,128), (255,255,255), ), crop_imgs))\n",
    "    crop_imgs = list(map(lambda x:cv2.copyMakeBorder(x, 10, 10, 10, 10, cv2.BORDER_CONSTANT, value=[0,0,0]), crop_imgs))\n",
    "    crop_imgs = np.stack(crop_imgs).astype(np.int32) # (3, H+20, W+20)\n",
    "    pred_nums = shift_window_pred(crop_imgs, images) # (3,)\n",
    "\n",
    "    for i, box in enumerate(boxes):\n",
    "        img = cv2.rectangle(img, box[:2], box[2:], (0,255,0), 3)\n",
    "        cv2.putText(img, f\"{pred_nums[i]}\", box[:2], font, 1, (0,0,255), 2, cv2.LINE_AA)\n",
    "\n",
    "    # 동영상 저장용\n",
    "    # out.write(img)\n",
    "\n",
    "    cv2.imshow('frame', img)\n",
    "    if cv2.waitKey(1) & 0xFF == ord('q'):\n",
    "        break\n",
    "\n",
    "    # time.sleep(0.2)\n",
    "\n",
    "# 동영상 저장용\n",
    "# out.release()\n",
    "cap.release()\n",
    "cv2.destroyAllWindows()"
   ]
  }
 ],
 "metadata": {
  "interpreter": {
   "hash": "57f3a4084d9bbea5e2496975c38f9f0c4e2cb16976f2cda4d07e2a8c664c7c73"
  },
  "kernelspec": {
   "display_name": "Python 3.8.10 ('myyolo')",
   "language": "python",
   "name": "python3"
  },
  "language_info": {
   "codemirror_mode": {
    "name": "ipython",
    "version": 3
   },
   "file_extension": ".py",
   "mimetype": "text/x-python",
   "name": "python",
   "nbconvert_exporter": "python",
   "pygments_lexer": "ipython3",
   "version": "3.8.10"
  }
 },
 "nbformat": 4,
 "nbformat_minor": 5
}
